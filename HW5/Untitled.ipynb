{
 "cells": [
  {
   "cell_type": "code",
   "execution_count": 1,
   "id": "78786566",
   "metadata": {},
   "outputs": [
    {
     "name": "stdout",
     "output_type": "stream",
     "text": [
      "Number of components: 2\n",
      "avg score of 2 components 10-Fold Cross Validation: 4.744861064608762\n",
      "Number of components: 3\n",
      "avg score of 3 components 10-Fold Cross Validation: 4.950817688561133\n",
      "Number of components: 4\n",
      "avg score of 4 components 10-Fold Cross Validation: 5.038752292742114\n",
      "Number of components: 5\n",
      "avg score of 5 components 10-Fold Cross Validation: 5.107919368781973\n",
      "Number of components: 6\n",
      "avg score of 6 components 10-Fold Cross Validation: 5.140220533002406\n",
      "Number of components: 7\n",
      "avg score of 7 components 10-Fold Cross Validation: 5.147238701353787\n",
      "Number of components: 8\n",
      "avg score of 8 components 10-Fold Cross Validation: 5.13943874228824\n",
      "Number of components: 9\n",
      "avg score of 9 components 10-Fold Cross Validation: 5.1232076249634035\n",
      "Number of components: 10\n",
      "avg score of 10 components 10-Fold Cross Validation: 5.14469645706864\n"
     ]
    }
   ],
   "source": [
    "import cv2\n",
    "import numpy as np\n",
    "from numpy import unique\n",
    "import os\n",
    "from sklearn.mixture import GaussianMixture as GMM\n",
    "from sklearn.model_selection import KFold\n",
    "\n",
    "def img_preprocess(img_path):\n",
    "    img = cv2.imread(img_path)\n",
    "    # squash image to [1,0]\n",
    "    img = np.array(img)/255\n",
    "    # flatten image\n",
    "    img = img.reshape(-1,3)\n",
    "\n",
    "    return img\n",
    "\n",
    "def get_best_model(components, img):\n",
    "    best_model = None\n",
    "    best_score = -np.inf\n",
    "    kf = KFold(n_splits=10)\n",
    "    kf.get_n_splits(img.T)\n",
    "    for component in components:\n",
    "        print(f\"Number of components: {component}\")\n",
    "        gmm = GMM(n_components=component)\n",
    "        score = []\n",
    "        for train_idx, test_idx in kf.split(img):\n",
    "            x_train, x_test = img[train_idx], img[test_idx]\n",
    "            gmm.fit(x_train)\n",
    "            score.append(gmm.score(x_test))\n",
    "        mean_score = np.mean(score)\n",
    "        print(f\"avg score of {component} components 10-Fold Cross Validation: {mean_score}\")\n",
    "        if mean_score > best_score:\n",
    "            best_score = mean_score\n",
    "            best_model = gmm\n",
    "\n",
    "    return best_model, best_score\n",
    "\n",
    "\n",
    "if __name__ == \"__main__\":\n",
    "\n",
    "    components = [2, 3, 4, 5, 6, 7, 8, 9, 10]\n",
    "    img_path = os.getcwd() + \"/image/train.jpg\"\n",
    "    og_img = cv2.imread(img_path)\n",
    "    \n",
    "    img = img_preprocess(img_path)\n",
    "    best_model, best_score = get_best_model(components, img)\n"
   ]
  },
  {
   "cell_type": "code",
   "execution_count": 28,
   "id": "2b38a2cf",
   "metadata": {},
   "outputs": [
    {
     "data": {
      "text/plain": [
       "True"
      ]
     },
     "execution_count": 28,
     "metadata": {},
     "output_type": "execute_result"
    }
   ],
   "source": [
    "labels = best_model.predict(img)\n",
    "n = best_model.n_components\n",
    "labels = labels.reshape(og_img.shape[0], og_img.shape[1])*255/n\n",
    "\n",
    "labels = cv2.GaussianBlur(labels, (5,5), 0)\n",
    "\n",
    "edges = cv2.Canny(np.uint8(labels), 100, 200)\n",
    "\n",
    "\n",
    "contours, hierarchy = cv2.findContours(edges, cv2.RETR_EXTERNAL, cv2.CHAIN_APPROX_SIMPLE)\n",
    "\n",
    "\n",
    "new = np.zeros((og_img.shape[0], og_img.shape[1], 3))+255\n",
    "\n",
    "for i in range(len(contours)):\n",
    "    cv2.drawContours(og_img, contours, i, (0,255,0), 3)\n",
    "\n",
    "for i in range(len(contours)):\n",
    "    cv2.drawContours(new, contours, i, (0,0,0), 3)\n",
    "\n",
    "cv2.imwrite(\"contours.jpg\", new)\n",
    "cv2.imwrite(\"segmented.jpg\", og_img)"
   ]
  },
  {
   "cell_type": "code",
   "execution_count": null,
   "id": "3a21eff5",
   "metadata": {},
   "outputs": [],
   "source": []
  },
  {
   "cell_type": "code",
   "execution_count": null,
   "id": "eb45c381",
   "metadata": {},
   "outputs": [],
   "source": []
  }
 ],
 "metadata": {
  "kernelspec": {
   "display_name": "Python 3 (ipykernel)",
   "language": "python",
   "name": "python3"
  },
  "language_info": {
   "codemirror_mode": {
    "name": "ipython",
    "version": 3
   },
   "file_extension": ".py",
   "mimetype": "text/x-python",
   "name": "python",
   "nbconvert_exporter": "python",
   "pygments_lexer": "ipython3",
   "version": "3.11.2"
  }
 },
 "nbformat": 4,
 "nbformat_minor": 5
}
